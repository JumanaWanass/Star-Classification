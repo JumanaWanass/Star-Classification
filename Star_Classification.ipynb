{
  "nbformat": 4,
  "nbformat_minor": 0,
  "metadata": {
    "colab": {
      "provenance": [],
      "authorship_tag": "ABX9TyNYnunhX8mx6wwyEV01zMjJ",
      "include_colab_link": true
    },
    "kernelspec": {
      "name": "python3",
      "display_name": "Python 3"
    },
    "language_info": {
      "name": "python"
    }
  },
  "cells": [
    {
      "cell_type": "markdown",
      "metadata": {
        "id": "view-in-github",
        "colab_type": "text"
      },
      "source": [
        "<a href=\"https://colab.research.google.com/github/JumanaWanass/Star-Classification/blob/main/Star_Classification.ipynb\" target=\"_parent\"><img src=\"https://colab.research.google.com/assets/colab-badge.svg\" alt=\"Open In Colab\"/></a>"
      ]
    },
    {
      "cell_type": "markdown",
      "source": [
        "Import Libraries"
      ],
      "metadata": {
        "id": "Cp3XjpgoOw4Y"
      }
    },
    {
      "cell_type": "code",
      "execution_count": 200,
      "metadata": {
        "id": "Op4SetyArvv0"
      },
      "outputs": [],
      "source": [
        "import pandas as pd\n",
        "import numpy as np\n",
        "from scipy import stats\n",
        "import matplotlib.pyplot as plt\n",
        "from sklearn.neighbors import KNeighborsClassifier\n",
        "from sklearn.model_selection import train_test_split, GridSearchCV, cross_val_score\n",
        "from sklearn.preprocessing import OneHotEncoder\n",
        "from sklearn.ensemble import AdaBoostClassifier\n",
        "from sklearn.tree import DecisionTreeClassifier\n",
        "from sklearn.metrics import (accuracy_score, precision_score, recall_score,\n",
        "f1_score, confusion_matrix, ConfusionMatrixDisplay)"
      ]
    },
    {
      "cell_type": "markdown",
      "source": [
        "Data preparing"
      ],
      "metadata": {
        "id": "S1Obq6iEO0to"
      }
    },
    {
      "cell_type": "code",
      "source": [
        "colNames = ['Temperature (K)', 'Luminosity(L/Lo)', 'Radius(R/Ro)',\n",
        "            'Absolute magnitude(Mv)', 'Star color', 'Spectral Class', 'Star type']\n",
        "df = pd.read_csv('StarType.csv', skiprows=1, names=colNames)\n"
      ],
      "metadata": {
        "id": "sfUhJjszr3sO"
      },
      "execution_count": 201,
      "outputs": []
    },
    {
      "cell_type": "code",
      "source": [
        "class_mapping = {\n",
        "    0: 'Red Dwarf',\n",
        "    1: 'Brown Dwarf',\n",
        "    2: 'White Dwarf',\n",
        "    3: 'Main Sequence',\n",
        "    4: 'Supergiant',\n",
        "    5: 'Hypergiant'\n",
        "}\n",
        "\n",
        "df['Star type'] = df['Star type'].map(class_mapping)\n"
      ],
      "metadata": {
        "id": "DiTnQEG2spi1"
      },
      "execution_count": 202,
      "outputs": []
    },
    {
      "cell_type": "markdown",
      "source": [
        "Removing outliers"
      ],
      "metadata": {
        "id": "hrQO24nOO4J_"
      }
    },
    {
      "cell_type": "code",
      "source": [
        "# Calculate the IQR for all numerical columns\n",
        "Q1 = df.select_dtypes(include=[np.number]).quantile(0.25)\n",
        "Q3 = df.select_dtypes(include=[np.number]).quantile(0.75)\n",
        "IQR = Q3 - Q1\n",
        "\n",
        "# Define a multiplier for IQR\n",
        "iqr_multiplier = 1.5\n",
        "\n",
        "# Create a mask to identify rows with outliers in any feature\n",
        "outlier_mask = ((df.select_dtypes(include=[np.number]) < (Q1 - iqr_multiplier * IQR)) |\n",
        "                (df.select_dtypes(include=[np.number]) >\n",
        "                 (Q3 + iqr_multiplier * IQR))).any(axis=1)\n",
        "\n",
        "# Remove rows with outliers\n",
        "df_clean = df[~outlier_mask]\n",
        "df.describe()\n"
      ],
      "metadata": {
        "colab": {
          "base_uri": "https://localhost:8080/",
          "height": 300
        },
        "id": "P4A-7FWIyFeO",
        "outputId": "00f3d267-f100-4e0b-cc11-15c14678979e"
      },
      "execution_count": 203,
      "outputs": [
        {
          "output_type": "execute_result",
          "data": {
            "text/plain": [
              "       Temperature (K)  Luminosity(L/Lo)  Radius(R/Ro)  Absolute magnitude(Mv)\n",
              "count       240.000000        240.000000    240.000000              240.000000\n",
              "mean      10497.462500     107188.361635    237.157781                4.382396\n",
              "std        9552.425037     179432.244940    517.155763               10.532512\n",
              "min        1939.000000          0.000080      0.008400              -11.920000\n",
              "25%        3344.250000          0.000865      0.102750               -6.232500\n",
              "50%        5776.000000          0.070500      0.762500                8.313000\n",
              "75%       15055.500000     198050.000000     42.750000               13.697500\n",
              "max       40000.000000     849420.000000   1948.500000               20.060000"
            ],
            "text/html": [
              "\n",
              "  <div id=\"df-1ee5cf01-790c-49bf-84ef-2b3be66617d0\" class=\"colab-df-container\">\n",
              "    <div>\n",
              "<style scoped>\n",
              "    .dataframe tbody tr th:only-of-type {\n",
              "        vertical-align: middle;\n",
              "    }\n",
              "\n",
              "    .dataframe tbody tr th {\n",
              "        vertical-align: top;\n",
              "    }\n",
              "\n",
              "    .dataframe thead th {\n",
              "        text-align: right;\n",
              "    }\n",
              "</style>\n",
              "<table border=\"1\" class=\"dataframe\">\n",
              "  <thead>\n",
              "    <tr style=\"text-align: right;\">\n",
              "      <th></th>\n",
              "      <th>Temperature (K)</th>\n",
              "      <th>Luminosity(L/Lo)</th>\n",
              "      <th>Radius(R/Ro)</th>\n",
              "      <th>Absolute magnitude(Mv)</th>\n",
              "    </tr>\n",
              "  </thead>\n",
              "  <tbody>\n",
              "    <tr>\n",
              "      <th>count</th>\n",
              "      <td>240.000000</td>\n",
              "      <td>240.000000</td>\n",
              "      <td>240.000000</td>\n",
              "      <td>240.000000</td>\n",
              "    </tr>\n",
              "    <tr>\n",
              "      <th>mean</th>\n",
              "      <td>10497.462500</td>\n",
              "      <td>107188.361635</td>\n",
              "      <td>237.157781</td>\n",
              "      <td>4.382396</td>\n",
              "    </tr>\n",
              "    <tr>\n",
              "      <th>std</th>\n",
              "      <td>9552.425037</td>\n",
              "      <td>179432.244940</td>\n",
              "      <td>517.155763</td>\n",
              "      <td>10.532512</td>\n",
              "    </tr>\n",
              "    <tr>\n",
              "      <th>min</th>\n",
              "      <td>1939.000000</td>\n",
              "      <td>0.000080</td>\n",
              "      <td>0.008400</td>\n",
              "      <td>-11.920000</td>\n",
              "    </tr>\n",
              "    <tr>\n",
              "      <th>25%</th>\n",
              "      <td>3344.250000</td>\n",
              "      <td>0.000865</td>\n",
              "      <td>0.102750</td>\n",
              "      <td>-6.232500</td>\n",
              "    </tr>\n",
              "    <tr>\n",
              "      <th>50%</th>\n",
              "      <td>5776.000000</td>\n",
              "      <td>0.070500</td>\n",
              "      <td>0.762500</td>\n",
              "      <td>8.313000</td>\n",
              "    </tr>\n",
              "    <tr>\n",
              "      <th>75%</th>\n",
              "      <td>15055.500000</td>\n",
              "      <td>198050.000000</td>\n",
              "      <td>42.750000</td>\n",
              "      <td>13.697500</td>\n",
              "    </tr>\n",
              "    <tr>\n",
              "      <th>max</th>\n",
              "      <td>40000.000000</td>\n",
              "      <td>849420.000000</td>\n",
              "      <td>1948.500000</td>\n",
              "      <td>20.060000</td>\n",
              "    </tr>\n",
              "  </tbody>\n",
              "</table>\n",
              "</div>\n",
              "    <div class=\"colab-df-buttons\">\n",
              "\n",
              "  <div class=\"colab-df-container\">\n",
              "    <button class=\"colab-df-convert\" onclick=\"convertToInteractive('df-1ee5cf01-790c-49bf-84ef-2b3be66617d0')\"\n",
              "            title=\"Convert this dataframe to an interactive table.\"\n",
              "            style=\"display:none;\">\n",
              "\n",
              "  <svg xmlns=\"http://www.w3.org/2000/svg\" height=\"24px\" viewBox=\"0 -960 960 960\">\n",
              "    <path d=\"M120-120v-720h720v720H120Zm60-500h600v-160H180v160Zm220 220h160v-160H400v160Zm0 220h160v-160H400v160ZM180-400h160v-160H180v160Zm440 0h160v-160H620v160ZM180-180h160v-160H180v160Zm440 0h160v-160H620v160Z\"/>\n",
              "  </svg>\n",
              "    </button>\n",
              "\n",
              "  <style>\n",
              "    .colab-df-container {\n",
              "      display:flex;\n",
              "      gap: 12px;\n",
              "    }\n",
              "\n",
              "    .colab-df-convert {\n",
              "      background-color: #E8F0FE;\n",
              "      border: none;\n",
              "      border-radius: 50%;\n",
              "      cursor: pointer;\n",
              "      display: none;\n",
              "      fill: #1967D2;\n",
              "      height: 32px;\n",
              "      padding: 0 0 0 0;\n",
              "      width: 32px;\n",
              "    }\n",
              "\n",
              "    .colab-df-convert:hover {\n",
              "      background-color: #E2EBFA;\n",
              "      box-shadow: 0px 1px 2px rgba(60, 64, 67, 0.3), 0px 1px 3px 1px rgba(60, 64, 67, 0.15);\n",
              "      fill: #174EA6;\n",
              "    }\n",
              "\n",
              "    .colab-df-buttons div {\n",
              "      margin-bottom: 4px;\n",
              "    }\n",
              "\n",
              "    [theme=dark] .colab-df-convert {\n",
              "      background-color: #3B4455;\n",
              "      fill: #D2E3FC;\n",
              "    }\n",
              "\n",
              "    [theme=dark] .colab-df-convert:hover {\n",
              "      background-color: #434B5C;\n",
              "      box-shadow: 0px 1px 3px 1px rgba(0, 0, 0, 0.15);\n",
              "      filter: drop-shadow(0px 1px 2px rgba(0, 0, 0, 0.3));\n",
              "      fill: #FFFFFF;\n",
              "    }\n",
              "  </style>\n",
              "\n",
              "    <script>\n",
              "      const buttonEl =\n",
              "        document.querySelector('#df-1ee5cf01-790c-49bf-84ef-2b3be66617d0 button.colab-df-convert');\n",
              "      buttonEl.style.display =\n",
              "        google.colab.kernel.accessAllowed ? 'block' : 'none';\n",
              "\n",
              "      async function convertToInteractive(key) {\n",
              "        const element = document.querySelector('#df-1ee5cf01-790c-49bf-84ef-2b3be66617d0');\n",
              "        const dataTable =\n",
              "          await google.colab.kernel.invokeFunction('convertToInteractive',\n",
              "                                                    [key], {});\n",
              "        if (!dataTable) return;\n",
              "\n",
              "        const docLinkHtml = 'Like what you see? Visit the ' +\n",
              "          '<a target=\"_blank\" href=https://colab.research.google.com/notebooks/data_table.ipynb>data table notebook</a>'\n",
              "          + ' to learn more about interactive tables.';\n",
              "        element.innerHTML = '';\n",
              "        dataTable['output_type'] = 'display_data';\n",
              "        await google.colab.output.renderOutput(dataTable, element);\n",
              "        const docLink = document.createElement('div');\n",
              "        docLink.innerHTML = docLinkHtml;\n",
              "        element.appendChild(docLink);\n",
              "      }\n",
              "    </script>\n",
              "  </div>\n",
              "\n",
              "\n",
              "<div id=\"df-e7d7f4ec-2ed4-43da-a0f7-bc29300e6af3\">\n",
              "  <button class=\"colab-df-quickchart\" onclick=\"quickchart('df-e7d7f4ec-2ed4-43da-a0f7-bc29300e6af3')\"\n",
              "            title=\"Suggest charts.\"\n",
              "            style=\"display:none;\">\n",
              "\n",
              "<svg xmlns=\"http://www.w3.org/2000/svg\" height=\"24px\"viewBox=\"0 0 24 24\"\n",
              "     width=\"24px\">\n",
              "    <g>\n",
              "        <path d=\"M19 3H5c-1.1 0-2 .9-2 2v14c0 1.1.9 2 2 2h14c1.1 0 2-.9 2-2V5c0-1.1-.9-2-2-2zM9 17H7v-7h2v7zm4 0h-2V7h2v10zm4 0h-2v-4h2v4z\"/>\n",
              "    </g>\n",
              "</svg>\n",
              "  </button>\n",
              "\n",
              "<style>\n",
              "  .colab-df-quickchart {\n",
              "      --bg-color: #E8F0FE;\n",
              "      --fill-color: #1967D2;\n",
              "      --hover-bg-color: #E2EBFA;\n",
              "      --hover-fill-color: #174EA6;\n",
              "      --disabled-fill-color: #AAA;\n",
              "      --disabled-bg-color: #DDD;\n",
              "  }\n",
              "\n",
              "  [theme=dark] .colab-df-quickchart {\n",
              "      --bg-color: #3B4455;\n",
              "      --fill-color: #D2E3FC;\n",
              "      --hover-bg-color: #434B5C;\n",
              "      --hover-fill-color: #FFFFFF;\n",
              "      --disabled-bg-color: #3B4455;\n",
              "      --disabled-fill-color: #666;\n",
              "  }\n",
              "\n",
              "  .colab-df-quickchart {\n",
              "    background-color: var(--bg-color);\n",
              "    border: none;\n",
              "    border-radius: 50%;\n",
              "    cursor: pointer;\n",
              "    display: none;\n",
              "    fill: var(--fill-color);\n",
              "    height: 32px;\n",
              "    padding: 0;\n",
              "    width: 32px;\n",
              "  }\n",
              "\n",
              "  .colab-df-quickchart:hover {\n",
              "    background-color: var(--hover-bg-color);\n",
              "    box-shadow: 0 1px 2px rgba(60, 64, 67, 0.3), 0 1px 3px 1px rgba(60, 64, 67, 0.15);\n",
              "    fill: var(--button-hover-fill-color);\n",
              "  }\n",
              "\n",
              "  .colab-df-quickchart-complete:disabled,\n",
              "  .colab-df-quickchart-complete:disabled:hover {\n",
              "    background-color: var(--disabled-bg-color);\n",
              "    fill: var(--disabled-fill-color);\n",
              "    box-shadow: none;\n",
              "  }\n",
              "\n",
              "  .colab-df-spinner {\n",
              "    border: 2px solid var(--fill-color);\n",
              "    border-color: transparent;\n",
              "    border-bottom-color: var(--fill-color);\n",
              "    animation:\n",
              "      spin 1s steps(1) infinite;\n",
              "  }\n",
              "\n",
              "  @keyframes spin {\n",
              "    0% {\n",
              "      border-color: transparent;\n",
              "      border-bottom-color: var(--fill-color);\n",
              "      border-left-color: var(--fill-color);\n",
              "    }\n",
              "    20% {\n",
              "      border-color: transparent;\n",
              "      border-left-color: var(--fill-color);\n",
              "      border-top-color: var(--fill-color);\n",
              "    }\n",
              "    30% {\n",
              "      border-color: transparent;\n",
              "      border-left-color: var(--fill-color);\n",
              "      border-top-color: var(--fill-color);\n",
              "      border-right-color: var(--fill-color);\n",
              "    }\n",
              "    40% {\n",
              "      border-color: transparent;\n",
              "      border-right-color: var(--fill-color);\n",
              "      border-top-color: var(--fill-color);\n",
              "    }\n",
              "    60% {\n",
              "      border-color: transparent;\n",
              "      border-right-color: var(--fill-color);\n",
              "    }\n",
              "    80% {\n",
              "      border-color: transparent;\n",
              "      border-right-color: var(--fill-color);\n",
              "      border-bottom-color: var(--fill-color);\n",
              "    }\n",
              "    90% {\n",
              "      border-color: transparent;\n",
              "      border-bottom-color: var(--fill-color);\n",
              "    }\n",
              "  }\n",
              "</style>\n",
              "\n",
              "  <script>\n",
              "    async function quickchart(key) {\n",
              "      const quickchartButtonEl =\n",
              "        document.querySelector('#' + key + ' button');\n",
              "      quickchartButtonEl.disabled = true;  // To prevent multiple clicks.\n",
              "      quickchartButtonEl.classList.add('colab-df-spinner');\n",
              "      try {\n",
              "        const charts = await google.colab.kernel.invokeFunction(\n",
              "            'suggestCharts', [key], {});\n",
              "      } catch (error) {\n",
              "        console.error('Error during call to suggestCharts:', error);\n",
              "      }\n",
              "      quickchartButtonEl.classList.remove('colab-df-spinner');\n",
              "      quickchartButtonEl.classList.add('colab-df-quickchart-complete');\n",
              "    }\n",
              "    (() => {\n",
              "      let quickchartButtonEl =\n",
              "        document.querySelector('#df-e7d7f4ec-2ed4-43da-a0f7-bc29300e6af3 button');\n",
              "      quickchartButtonEl.style.display =\n",
              "        google.colab.kernel.accessAllowed ? 'block' : 'none';\n",
              "    })();\n",
              "  </script>\n",
              "</div>\n",
              "    </div>\n",
              "  </div>\n"
            ]
          },
          "metadata": {},
          "execution_count": 203
        }
      ]
    },
    {
      "cell_type": "markdown",
      "source": [
        "Convert string values to int"
      ],
      "metadata": {
        "id": "eCAuvHbcO73A"
      }
    },
    {
      "cell_type": "code",
      "source": [
        "encoder = OneHotEncoder(sparse=False, drop='first')\n",
        "X_encoded = pd.DataFrame(encoder.fit_transform(df[['Star color', 'Spectral Class']]))\n",
        "\n",
        "# Drop the original categorical columns and concatenate the encoded columns\n",
        "df = df.drop(columns=['Star color', 'Spectral Class'])\n",
        "X = pd.concat([df, X_encoded], axis=1)\n",
        "\n",
        "# Define your features (X) and target variable (y)\n",
        "X = X.drop(columns=['Star type'])  # Features (all columns except 'Star type')\n",
        "y = df['Star type']  # Target variable ('Star type' column)\n",
        "\n",
        "# Convert feature column names to strings (if not already)\n",
        "X.columns = X.columns.astype(str)"
      ],
      "metadata": {
        "colab": {
          "base_uri": "https://localhost:8080/"
        },
        "id": "QMqR6s8T0Drq",
        "outputId": "59e61e73-0b10-42c2-bb20-8d69ba68f809"
      },
      "execution_count": 204,
      "outputs": [
        {
          "output_type": "stream",
          "name": "stderr",
          "text": [
            "/usr/local/lib/python3.10/dist-packages/sklearn/preprocessing/_encoders.py:868: FutureWarning: `sparse` was renamed to `sparse_output` in version 1.2 and will be removed in 1.4. `sparse_output` is ignored unless you leave `sparse` to its default value.\n",
            "  warnings.warn(\n"
          ]
        }
      ]
    },
    {
      "cell_type": "code",
      "source": [
        "\n",
        "# Split the data into a train set and a test set (e.g., 80% train, 20% test)\n",
        "X_train, X_test, y_train, y_test = train_test_split(X, y, test_size=0.1, random_state=42)\n",
        "X.columns = X.columns.astype(str)\n",
        "\n"
      ],
      "metadata": {
        "id": "t9hMnjErtKJ1"
      },
      "execution_count": 205,
      "outputs": []
    },
    {
      "cell_type": "markdown",
      "source": [
        "Using weighted KNN"
      ],
      "metadata": {
        "id": "BY9wm0GutVx9"
      }
    },
    {
      "cell_type": "code",
      "source": [
        "# Train and evaluate KNN model with weights\n",
        "\n",
        "# Define parameter grid for KNN\n",
        "knn_param_grid = {'n_neighbors': range(3, 15, 2)}\n",
        "\n",
        "# Create a list of weights to test (you can adjust this as needed)\n",
        "weights_to_test = ['uniform', 'distance']\n",
        "\n",
        "best_knn_weighted = None\n",
        "best_knn_weighted_accuracy = 0\n",
        "\n",
        "# Iterate over different weight options\n",
        "for weight_option in weights_to_test:\n",
        "    knn_grid = GridSearchCV(KNeighborsClassifier(weights=weight_option),\n",
        "                            knn_param_grid, cv=3)\n",
        "    knn_grid.fit(X_train, y_train)\n",
        "\n",
        "    # Get the best KNN model for this weight option\n",
        "    bestKnn = knn_grid.best_estimator_\n",
        "\n",
        "    # Train the best KNN model\n",
        "    bestKnn.fit(X_train, y_train)\n",
        "\n",
        "    # Make predictions on the test data\n",
        "    y_pred = bestKnn.predict(X_test)\n",
        "\n",
        "    # Calculate accuracy\n",
        "    accuracy = accuracy_score(y_test, y_pred)\n",
        "\n",
        "    # Check if this model has better accuracy\n",
        "    if accuracy > best_knn_weighted_accuracy:\n",
        "        best_knn_weighted_accuracy = accuracy\n",
        "        best_knn_weighted = bestKnn\n",
        "\n",
        "# Print the best weighted KNN classifier\n",
        "print(\"Best Weighted KNN Classifier:\", best_knn_weighted)\n",
        "print(\"Accuracy of Best Weighted KNN:\", best_knn_weighted_accuracy)\n"
      ],
      "metadata": {
        "colab": {
          "base_uri": "https://localhost:8080/"
        },
        "id": "EJHLPWm-tdr1",
        "outputId": "22a02c13-4d61-4135-be38-84965efd9f99"
      },
      "execution_count": 206,
      "outputs": [
        {
          "output_type": "stream",
          "name": "stdout",
          "text": [
            "Best Weighted KNN Classifier: KNeighborsClassifier(n_neighbors=3, weights='distance')\n",
            "Accuracy of Best Weighted KNN: 0.75\n"
          ]
        }
      ]
    },
    {
      "cell_type": "code",
      "source": [
        "k_values = knn_param_grid['n_neighbors']\n",
        "mean_test_scores = knn_grid.cv_results_['mean_test_score']\n",
        "plt.figure(figsize=(10, 6))\n",
        "plt.plot(k_values, mean_test_scores, marker='x')\n",
        "plt.title('KNN Parameter Tuning')\n",
        "plt.xlabel('Number of Neighbors (k)')\n",
        "plt.ylabel('Mean Test Score')\n",
        "plt.grid(True)\n",
        "plt.show()\n",
        "print(\"Best Knn Classifier: \", knn_grid.best_estimator_)"
      ],
      "metadata": {
        "colab": {
          "base_uri": "https://localhost:8080/",
          "height": 578
        },
        "id": "7Lv9D6UgtqkO",
        "outputId": "5f25bacb-6843-42e9-a1ea-1039487f560e"
      },
      "execution_count": 207,
      "outputs": [
        {
          "output_type": "display_data",
          "data": {
            "text/plain": [
              "<Figure size 1000x600 with 1 Axes>"
            ],
            "image/png": "[encoded data removed]"
          },
          "metadata": {}
        },
        {
          "output_type": "stream",
          "name": "stdout",
          "text": [
            "Best Knn Classifier:  KNeighborsClassifier(n_neighbors=3, weights='distance')\n"
          ]
        }
      ]
    },
    {
      "cell_type": "code",
      "source": [
        "# Train the best KNN model\n",
        "bestKnn.fit(X_train, y_train)\n",
        "\n",
        "# Make predictions on the test data\n",
        "y_pred = bestKnn.predict(X_test)\n",
        "\n",
        "# Calculate accuracy\n",
        "accuracy = accuracy_score(y_test, y_pred)\n",
        "print(\"Accuracy:\", accuracy)\n"
      ],
      "metadata": {
        "colab": {
          "base_uri": "https://localhost:8080/"
        },
        "id": "OR1fhGe-w4P_",
        "outputId": "cd8c462f-0d11-4229-fc3a-071f195f0ba9"
      },
      "execution_count": 208,
      "outputs": [
        {
          "output_type": "stream",
          "name": "stdout",
          "text": [
            "Accuracy: 0.75\n"
          ]
        }
      ]
    },
    {
      "cell_type": "markdown",
      "source": [
        "Using Adaboost"
      ],
      "metadata": {
        "id": "oQ7HjFNxPCjh"
      }
    },
    {
      "cell_type": "code",
      "source": [
        "adaboost_model = AdaBoostClassifier(\n",
        "    estimator=DecisionTreeClassifier(max_depth=1),\n",
        "    random_state=42  # Set a random seed for reproducibility\n",
        ")\n"
      ],
      "metadata": {
        "id": "I4FBSMNOBSHd"
      },
      "execution_count": 209,
      "outputs": []
    },
    {
      "cell_type": "code",
      "source": [
        "# Define a grid of hyperparameters to search over\n",
        "param_grid = {\n",
        "    'n_estimators': [50, 100, 150],  # Number of weak learners (iterations)\n",
        "    'learning_rate': [0.1, 0.5, 1.0]  # Learning rate (adjust as needed)\n",
        "}\n",
        "\n",
        "# Create a GridSearchCV object with cross-validation\n",
        "grid_search = GridSearchCV(\n",
        "    estimator=adaboost_model,  # Use 'estimator' instead of 'base_estimator'\n",
        "    param_grid=param_grid,\n",
        "    cv=3,  # Number of cross-validation folds\n",
        "    scoring='accuracy'  # Evaluation metric (you can use other metrics)\n",
        ")\n",
        "\n",
        "# Fit the GridSearchCV object to your training data\n",
        "grid_search.fit(X_train, y_train)\n",
        "\n",
        "# Get the best estimator (model) with optimal hyperparameters\n",
        "best_adaboost_model = grid_search.best_estimator_\n",
        "\n",
        "# Print the best hyperparameters\n",
        "print(\"Best Hyperparameters:\", grid_search.best_params_)\n",
        "\n",
        "# Evaluate the best model using cross-validation\n",
        "cross_val_scores = cross_val_score(best_adaboost_model, X_train, y_train, cv=5)  # You can adjust the number of folds\n",
        "print(\"Cross-Validation Scores:\", cross_val_scores)\n",
        "print(\"Mean Cross-Validation Score:\", cross_val_scores.mean())\n",
        "\n",
        "# Fit the best model to your full training data (optional)\n",
        "best_adaboost_model.fit(X_train, y_train)\n",
        "\n",
        "# Make predictions on your test data\n",
        "y_pred = best_adaboost_model.predict(X_test)"
      ],
      "metadata": {
        "colab": {
          "base_uri": "https://localhost:8080/"
        },
        "id": "nLsE6pfsyE3T",
        "outputId": "26f12ee1-c73a-4160-8b5f-b4e1bc067a51"
      },
      "execution_count": 210,
      "outputs": [
        {
          "output_type": "stream",
          "name": "stdout",
          "text": [
            "Best Hyperparameters: {'learning_rate': 0.5, 'n_estimators': 50}\n",
            "Cross-Validation Scores: [1.         0.97674419 1.         1.         1.        ]\n",
            "Mean Cross-Validation Score: 0.9953488372093023\n"
          ]
        }
      ]
    },
    {
      "cell_type": "code",
      "source": [
        "accuracy = accuracy_score(y_test, y_pred)\n",
        "print(\"Accuracy: \" , accuracy)"
      ],
      "metadata": {
        "colab": {
          "base_uri": "https://localhost:8080/"
        },
        "id": "nRnR3j27Dood",
        "outputId": "80c5995e-9f5f-4ced-fd7c-f2e9fff5d203"
      },
      "execution_count": 211,
      "outputs": [
        {
          "output_type": "stream",
          "name": "stdout",
          "text": [
            "Accuracy:  1.0\n"
          ]
        }
      ]
    }
  ]
}